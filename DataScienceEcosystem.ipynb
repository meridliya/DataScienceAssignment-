{
  "metadata": {
    "kernelspec": {
      "name": "python",
      "display_name": "Python (Pyodide)",
      "language": "python"
    },
    "language_info": {
      "codemirror_mode": {
        "name": "python",
        "version": 3
      },
      "file_extension": ".py",
      "mimetype": "text/x-python",
      "name": "python",
      "nbconvert_exporter": "python",
      "pygments_lexer": "ipython3",
      "version": "3.8"
    }
  },
  "nbformat_minor": 5,
  "nbformat": 4,
  "cells": [
    {
      "id": "18272da6-3143-4103-b114-97cb51355994",
      "cell_type": "markdown",
      "source": "# H1 Data Science Tools and Ecosystem\n",
      "metadata": {}
    },
    {
      "id": "a67f7d15-81e4-4d53-99f1-0e6aa79469c7",
      "cell_type": "markdown",
      "source": "In this notebook, Data Science Tools and Ecosystem are summarized.",
      "metadata": {}
    },
    {
      "id": "c59f9e0b-fe95-4f13-90af-c9934af0026d",
      "cell_type": "markdown",
      "source": "**Objectives:**\n* Popular languages Data Scientists use include Python, R, Julia, SQL\n* Common libraries include ggplot, NumPy, Pandas and Matplotlib\n* Jupyter allows you to do simple arithmetic operations, create lists and tables",
      "metadata": {}
    },
    {
      "id": "c798c136-4947-442b-a968-76881ae3a794",
      "cell_type": "code",
      "source": "Some of the popular languages that Data Scientists use are:\n1. Python\n2. R\n3. Julia\n4. SQL",
      "metadata": {
        "trusted": true
      },
      "outputs": [],
      "execution_count": null
    },
    {
      "id": "21490f7e-c867-4ba1-a218-2078fb5f049b",
      "cell_type": "markdown",
      "source": "Some of the commonly used libraries used by Data Scientists include: \n1. ggplot\n2. NumPy\n3. Pandas\n4. Matplotlib",
      "metadata": {}
    },
    {
      "id": "a9c09f5d-89bd-4bf1-9e0c-eabd58b767f5",
      "cell_type": "markdown",
      "source": "Data Science Tools \n--------------------\nAnaconda  \nRstudio  \nJupyter Notebook     ",
      "metadata": {}
    },
    {
      "id": "45658894-2103-4315-83a9-9b0822730760",
      "cell_type": "markdown",
      "source": "### Below are a few examples of evaluating arithmetic expressions in Python",
      "metadata": {}
    },
    {
      "id": "f286d6e5-205c-42aa-bb40-ab763a956f1c",
      "cell_type": "code",
      "source": "#This is a simple arithmetic expression to multiply then add integers\n(3*4)+5",
      "metadata": {
        "trusted": true
      },
      "outputs": [
        {
          "execution_count": 7,
          "output_type": "execute_result",
          "data": {
            "text/plain": "17"
          },
          "metadata": {}
        }
      ],
      "execution_count": 7
    },
    {
      "id": "5976963e-d7f8-4ccc-9139-99837f1b603b",
      "cell_type": "code",
      "source": "# This will convert 200 minutes to hours by dividing by 60.\n200/60",
      "metadata": {
        "trusted": true
      },
      "outputs": [
        {
          "execution_count": 9,
          "output_type": "execute_result",
          "data": {
            "text/plain": "3.3333333333333335"
          },
          "metadata": {}
        }
      ],
      "execution_count": 9
    },
    {
      "id": "0dd40c14-8b60-43fe-82fa-36888040c935",
      "cell_type": "markdown",
      "source": "## Author \nLiya Merid",
      "metadata": {}
    }
  ]
}